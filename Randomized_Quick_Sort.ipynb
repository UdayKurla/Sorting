{
  "nbformat": 4,
  "nbformat_minor": 0,
  "metadata": {
    "colab": {
      "provenance": [],
      "authorship_tag": "ABX9TyPITcSs6Ko5HA1xL32AoR7Q",
      "include_colab_link": true
    },
    "kernelspec": {
      "name": "python3",
      "display_name": "Python 3"
    },
    "language_info": {
      "name": "python"
    }
  },
  "cells": [
    {
      "cell_type": "markdown",
      "metadata": {
        "id": "view-in-github",
        "colab_type": "text"
      },
      "source": [
        "<a href=\"https://colab.research.google.com/github/UdayKurla/Sorting/blob/main/Randomized_Quick_Sort.ipynb\" target=\"_parent\"><img src=\"https://colab.research.google.com/assets/colab-badge.svg\" alt=\"Open In Colab\"/></a>"
      ]
    },
    {
      "cell_type": "code",
      "execution_count": 1,
      "metadata": {
        "id": "DSTUvhTbhdes"
      },
      "outputs": [],
      "source": [
        "import random"
      ]
    },
    {
      "cell_type": "code",
      "source": [
        "def partition(array, start, end):\n",
        "    pivot_val = array[end]\n",
        "    i = start-1\n",
        "    for j in range(start,end):\n",
        "        if array[j] <= pivot_val:\n",
        "            i+=1\n",
        "            array[i], array[j] = array[j], array[i]\n",
        "    array[i+1], array[end] = array[end], array[i+1]\n",
        "    return i+1"
      ],
      "metadata": {
        "id": "aISvWX_ihtgz"
      },
      "execution_count": 2,
      "outputs": []
    },
    {
      "cell_type": "code",
      "source": [
        "def randomized_partition(array, start, end):\n",
        "    pivot = random.randint(start, end)\n",
        "    array[pivot], array[end] = array[end], array[pivot]\n",
        "    return partition(array, start, end)"
      ],
      "metadata": {
        "id": "TLB3ElJShvid"
      },
      "execution_count": 3,
      "outputs": []
    },
    {
      "cell_type": "code",
      "source": [
        "def randomized_quicksort(array, start, end):\n",
        "    if start < end:\n",
        "        pivot = randomized_partition(array, start, end)\n",
        "        randomized_quicksort(array, start, pivot-1)\n",
        "        randomized_quicksort(array, pivot+1, end)"
      ],
      "metadata": {
        "id": "6GKvTHy6hzQe"
      },
      "execution_count": 4,
      "outputs": []
    },
    {
      "cell_type": "code",
      "source": [
        "array = list(map(int,input().split()))\n",
        "randomized_quicksort(array,0,len(array)-1)\n",
        "print(array)"
      ],
      "metadata": {
        "colab": {
          "base_uri": "https://localhost:8080/"
        },
        "id": "-iBS9epjh1RE",
        "outputId": "bebff0a8-8fd8-43d7-acf2-d8ec146edfbd"
      },
      "execution_count": 5,
      "outputs": [
        {
          "output_type": "stream",
          "name": "stdout",
          "text": [
            "9 3 0 34 22 77 98 45 34 98 1 5 3\n",
            "[0, 1, 3, 3, 5, 9, 22, 34, 34, 45, 77, 98, 98]\n"
          ]
        }
      ]
    }
  ]
}
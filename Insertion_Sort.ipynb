{
  "nbformat": 4,
  "nbformat_minor": 0,
  "metadata": {
    "colab": {
      "provenance": [],
      "authorship_tag": "ABX9TyNyG2QRzDmS7gou4oAWa89o",
      "include_colab_link": true
    },
    "kernelspec": {
      "name": "python3",
      "display_name": "Python 3"
    },
    "language_info": {
      "name": "python"
    }
  },
  "cells": [
    {
      "cell_type": "markdown",
      "metadata": {
        "id": "view-in-github",
        "colab_type": "text"
      },
      "source": [
        "<a href=\"https://colab.research.google.com/github/UdayKurla/Sorting/blob/main/Insertion_Sort.ipynb\" target=\"_parent\"><img src=\"https://colab.research.google.com/assets/colab-badge.svg\" alt=\"Open In Colab\"/></a>"
      ]
    },
    {
      "cell_type": "code",
      "execution_count": 1,
      "metadata": {
        "id": "_mtMKCSRfurR"
      },
      "outputs": [],
      "source": [
        "def insertion_sort(array):\n",
        "    n = len(array)\n",
        "    for i in range(1,n):\n",
        "        key = array[i]\n",
        "        j = i-1\n",
        "        while j >= 0 and key < array[j]:\n",
        "            array[j+1] = array[j]\n",
        "            j -= 1\n",
        "        array[j+1] = key"
      ]
    },
    {
      "cell_type": "code",
      "source": [
        "array = list(map(int,input().split()))\n",
        "insertion_sort(array)\n",
        "print(array)"
      ],
      "metadata": {
        "colab": {
          "base_uri": "https://localhost:8080/"
        },
        "id": "gw4yHnb9f5zP",
        "outputId": "182e2e3f-d602-44bd-8d06-8a97742e964a"
      },
      "execution_count": 2,
      "outputs": [
        {
          "output_type": "stream",
          "name": "stdout",
          "text": [
            "8 2 5 7 66 54 63 9 0 1 9 2 7\n",
            "[0, 1, 2, 2, 5, 7, 7, 8, 9, 9, 54, 63, 66]\n"
          ]
        }
      ]
    }
  ]
}
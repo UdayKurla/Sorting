{
  "nbformat": 4,
  "nbformat_minor": 0,
  "metadata": {
    "colab": {
      "provenance": [],
      "authorship_tag": "ABX9TyM/ze33k4SyOdV3Ul0IK6LR",
      "include_colab_link": true
    },
    "kernelspec": {
      "name": "python3",
      "display_name": "Python 3"
    },
    "language_info": {
      "name": "python"
    }
  },
  "cells": [
    {
      "cell_type": "markdown",
      "metadata": {
        "id": "view-in-github",
        "colab_type": "text"
      },
      "source": [
        "<a href=\"https://colab.research.google.com/github/UdayKurla/Sorting/blob/main/Insertion_Sort_.ipynb\" target=\"_parent\"><img src=\"https://colab.research.google.com/assets/colab-badge.svg\" alt=\"Open In Colab\"/></a>"
      ]
    },
    {
      "cell_type": "code",
      "execution_count": 1,
      "metadata": {
        "id": "_mtMKCSRfurR"
      },
      "outputs": [],
      "source": [
        "def insertion_sort(array):\n",
        "    n = len(array)\n",
        "    for i in range(1,n):\n",
        "        key = array[i]\n",
        "        j = i-1\n",
        "        while j >= 0 and key < array[j]:\n",
        "            array[j+1] = array[j]\n",
        "            j -= 1\n",
        "        array[j+1] = key"
      ]
    },
    {
      "cell_type": "code",
      "source": [
        "array = [5,3,6,2,4,9,0]\n",
        "insertion_sort(array)\n",
        "print(array)"
      ],
      "metadata": {
        "colab": {
          "base_uri": "https://localhost:8080/"
        },
        "id": "gw4yHnb9f5zP",
        "outputId": "09c4133c-a39e-4f80-92b3-bd8c35162737"
      },
      "execution_count": 2,
      "outputs": [
        {
          "output_type": "stream",
          "name": "stdout",
          "text": [
            "[0, 2, 3, 4, 5, 6, 9]\n"
          ]
        }
      ]
    }
  ]
}
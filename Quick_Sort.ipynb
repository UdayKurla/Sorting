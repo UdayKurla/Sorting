{
  "nbformat": 4,
  "nbformat_minor": 0,
  "metadata": {
    "colab": {
      "provenance": [],
      "authorship_tag": "ABX9TyOr2O/Shlyj0yd+uQkAhfXJ",
      "include_colab_link": true
    },
    "kernelspec": {
      "name": "python3",
      "display_name": "Python 3"
    },
    "language_info": {
      "name": "python"
    }
  },
  "cells": [
    {
      "cell_type": "markdown",
      "metadata": {
        "id": "view-in-github",
        "colab_type": "text"
      },
      "source": [
        "<a href=\"https://colab.research.google.com/github/UdayKurla/Sorting/blob/main/Quick_Sort.ipynb\" target=\"_parent\"><img src=\"https://colab.research.google.com/assets/colab-badge.svg\" alt=\"Open In Colab\"/></a>"
      ]
    },
    {
      "cell_type": "code",
      "execution_count": 1,
      "metadata": {
        "id": "B7OSaY42f_f_"
      },
      "outputs": [],
      "source": [
        "def partition(array, start, end):\n",
        "    pivot_val = array[end]\n",
        "    i = start-1\n",
        "    for j in range(start,end):\n",
        "        if array[j] <= pivot_val:\n",
        "            i+=1\n",
        "            array[i], array[j] = array[j], array[i]\n",
        "    array[i+1], array[end] = array[end], array[i+1]\n",
        "    return i+1"
      ]
    },
    {
      "cell_type": "code",
      "source": [
        "def quicksort(array, start, end):\n",
        "    if start < end:\n",
        "        pivot = partition(array, start, end)\n",
        "        quicksort(array, start, pivot-1)\n",
        "        quicksort(array, pivot+1, end)"
      ],
      "metadata": {
        "id": "J6Wp1iOfgcor"
      },
      "execution_count": 2,
      "outputs": []
    },
    {
      "cell_type": "code",
      "source": [
        "array = list(map(int,input().split()))\n",
        "quicksort(array,0,len(array)-1)\n",
        "print(array)"
      ],
      "metadata": {
        "colab": {
          "base_uri": "https://localhost:8080/"
        },
        "id": "wVqqhmslggum",
        "outputId": "0d3251a4-37bf-402e-e010-79fb2802f9c7"
      },
      "execution_count": 4,
      "outputs": [
        {
          "output_type": "stream",
          "name": "stdout",
          "text": [
            "8 3 22 12 0 9 67 3 44 10 100 20 34\n",
            "[0, 3, 3, 8, 9, 10, 12, 20, 22, 34, 44, 67, 100]\n"
          ]
        }
      ]
    }
  ]
}
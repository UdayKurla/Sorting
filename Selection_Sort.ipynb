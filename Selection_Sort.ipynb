{
  "nbformat": 4,
  "nbformat_minor": 0,
  "metadata": {
    "colab": {
      "provenance": [],
      "authorship_tag": "ABX9TyN/6hJlkeSXyUW8numHlmik",
      "include_colab_link": true
    },
    "kernelspec": {
      "name": "python3",
      "display_name": "Python 3"
    },
    "language_info": {
      "name": "python"
    }
  },
  "cells": [
    {
      "cell_type": "markdown",
      "metadata": {
        "id": "view-in-github",
        "colab_type": "text"
      },
      "source": [
        "<a href=\"https://colab.research.google.com/github/UdayKurla/Sorting/blob/main/Selection_Sort.ipynb\" target=\"_parent\"><img src=\"https://colab.research.google.com/assets/colab-badge.svg\" alt=\"Open In Colab\"/></a>"
      ]
    },
    {
      "cell_type": "code",
      "execution_count": 1,
      "metadata": {
        "id": "h6wiS2yM7wLc"
      },
      "outputs": [],
      "source": [
        "def selection_sort(arr):\n",
        "    n = len(array)\n",
        "    for i in range(n):\n",
        "        min_val, min_indx = array[i], i\n",
        "        for j in range(i+1,n):\n",
        "            if min_val > array[j]:\n",
        "                min_val = array[j]\n",
        "                min_indx = j\n",
        "        array[i], array[min_indx] = array[min_indx], array[i]"
      ]
    },
    {
      "cell_type": "code",
      "source": [
        "array = [5,3,6,2,4,9,0]\n",
        "selection_sort(array)\n",
        "print(array)"
      ],
      "metadata": {
        "id": "e6kqSV6B72xG",
        "outputId": "1caea870-ac70-42c5-fbf4-a26836253a51",
        "colab": {
          "base_uri": "https://localhost:8080/"
        }
      },
      "execution_count": 2,
      "outputs": [
        {
          "output_type": "stream",
          "name": "stdout",
          "text": [
            "[0, 2, 3, 4, 5, 6, 9]\n"
          ]
        }
      ]
    }
  ]
}
{
  "nbformat": 4,
  "nbformat_minor": 0,
  "metadata": {
    "colab": {
      "provenance": [],
      "authorship_tag": "ABX9TyPn5Lz1SbVuLMuRdIM4ueSt",
      "include_colab_link": true
    },
    "kernelspec": {
      "name": "python3",
      "display_name": "Python 3"
    },
    "language_info": {
      "name": "python"
    }
  },
  "cells": [
    {
      "cell_type": "markdown",
      "metadata": {
        "id": "view-in-github",
        "colab_type": "text"
      },
      "source": [
        "<a href=\"https://colab.research.google.com/github/UdayKurla/Sorting/blob/main/Selection_Sort.ipynb\" target=\"_parent\"><img src=\"https://colab.research.google.com/assets/colab-badge.svg\" alt=\"Open In Colab\"/></a>"
      ]
    },
    {
      "cell_type": "code",
      "execution_count": 1,
      "metadata": {
        "id": "h6wiS2yM7wLc"
      },
      "outputs": [],
      "source": [
        "def selection_sort(arr):\n",
        "    n = len(array)\n",
        "    for i in range(n):\n",
        "        min_val, min_indx = array[i], i\n",
        "        for j in range(i+1,n):\n",
        "            if min_val > array[j]:\n",
        "                min_val = array[j]\n",
        "                min_indx = j\n",
        "        array[i], array[min_indx] = array[min_indx], array[i]"
      ]
    },
    {
      "cell_type": "code",
      "source": [
        "array = list(map(int,input().split()))\n",
        "selection_sort(array)\n",
        "print(array)"
      ],
      "metadata": {
        "colab": {
          "base_uri": "https://localhost:8080/"
        },
        "id": "e6kqSV6B72xG",
        "outputId": "1931b87a-18f3-4047-bf4b-098886a3b153"
      },
      "execution_count": 2,
      "outputs": [
        {
          "output_type": "stream",
          "name": "stdout",
          "text": [
            "88 33 5 22 9 7 0 12 81\n",
            "[0, 5, 7, 9, 12, 22, 33, 81, 88]\n"
          ]
        }
      ]
    }
  ]
}
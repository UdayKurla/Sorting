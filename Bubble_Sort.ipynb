{
  "nbformat": 4,
  "nbformat_minor": 0,
  "metadata": {
    "colab": {
      "provenance": [],
      "authorship_tag": "ABX9TyOdMYwS/IHK/2pZQLWYxvvA",
      "include_colab_link": true
    },
    "kernelspec": {
      "name": "python3",
      "display_name": "Python 3"
    },
    "language_info": {
      "name": "python"
    }
  },
  "cells": [
    {
      "cell_type": "markdown",
      "metadata": {
        "id": "view-in-github",
        "colab_type": "text"
      },
      "source": [
        "<a href=\"https://colab.research.google.com/github/UdayKurla/Sorting/blob/main/Bubble_Sort.ipynb\" target=\"_parent\"><img src=\"https://colab.research.google.com/assets/colab-badge.svg\" alt=\"Open In Colab\"/></a>"
      ]
    },
    {
      "cell_type": "code",
      "source": [
        "def bubble_sort(array):\n",
        "    n = len(array)\n",
        "    for i in range(n):\n",
        "        for j in range(0,n-1):\n",
        "            if array[j]>array[j+1]:\n",
        "                array[j], array[j+1] = array[j+1], array[j]\n",
        "    return array"
      ],
      "metadata": {
        "id": "fGPCSsWe6zc0"
      },
      "execution_count": 3,
      "outputs": []
    },
    {
      "cell_type": "code",
      "execution_count": 4,
      "metadata": {
        "colab": {
          "base_uri": "https://localhost:8080/"
        },
        "id": "J2UPbgZf6vsv",
        "outputId": "4c3139d4-cce6-40be-aa0c-14669eb0c3b1"
      },
      "outputs": [
        {
          "output_type": "stream",
          "name": "stdout",
          "text": [
            "3 1 0 4 11 2 7 10\n",
            "[0, 1, 2, 3, 4, 7, 10, 11]\n"
          ]
        }
      ],
      "source": [
        "array = list(map(int,input().split()))\n",
        "print(bubble_sort(array))"
      ]
    }
  ]
}